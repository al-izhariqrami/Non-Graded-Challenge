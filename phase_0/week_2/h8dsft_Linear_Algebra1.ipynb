{
 "cells": [
  {
   "cell_type": "markdown",
   "metadata": {},
   "source": [
    "A. IMPORT LIBRARY"
   ]
  },
  {
   "cell_type": "code",
   "execution_count": 21,
   "metadata": {},
   "outputs": [],
   "source": [
    "import numpy as np\n",
    "import matplotlib.pyplot as plt"
   ]
  },
  {
   "cell_type": "markdown",
   "metadata": {},
   "source": [
    "B. PROBLEMS AND SOLUTION"
   ]
  },
  {
   "cell_type": "markdown",
   "metadata": {},
   "source": [
    "Buatlah vektor di bawah ini dengan Python \n",
    "    (17 22 19)    "
   ]
  },
  {
   "cell_type": "code",
   "execution_count": 22,
   "metadata": {},
   "outputs": [
    {
     "name": "stdout",
     "output_type": "stream",
     "text": [
      "[17 22 19]\n"
     ]
    }
   ],
   "source": [
    "vector = np.array([17, 22, 19])\n",
    "print(vector)"
   ]
  },
  {
   "cell_type": "markdown",
   "metadata": {},
   "source": [
    "Diberikan 3 buah vektor 3 dimensi \n",
    "    \n",
    "A=(17 22 19), B=(10 20 11), C=(5 12 9)\n",
    "Hitunglah :\n",
    "- A + B\n",
    "- B - C\n",
    "- A dot C\n",
    "- A X B\n",
    "- norm A\n",
    "- Sudut antara vektor A dan B\n",
    "\n"
   ]
  },
  {
   "cell_type": "code",
   "execution_count": 23,
   "metadata": {},
   "outputs": [
    {
     "name": "stdout",
     "output_type": "stream",
     "text": [
      "[17 22 19]\n",
      "[10 20 11]\n",
      "[ 5 12  9]\n"
     ]
    }
   ],
   "source": [
    "'Membuat vektor sesuai arahan soal'\n",
    "A = np.array([17,22,19])\n",
    "B = np.array([10,20,11])\n",
    "C = np.array([5,12,9])\n",
    "print(A)\n",
    "print(B)\n",
    "print(C)"
   ]
  },
  {
   "cell_type": "code",
   "execution_count": 24,
   "metadata": {},
   "outputs": [
    {
     "name": "stdout",
     "output_type": "stream",
     "text": [
      "[27 42 30]\n"
     ]
    }
   ],
   "source": [
    "'Menghitung A + B'\n",
    "print(A + B)\n"
   ]
  },
  {
   "cell_type": "code",
   "execution_count": 25,
   "metadata": {},
   "outputs": [
    {
     "name": "stdout",
     "output_type": "stream",
     "text": [
      "[5 8 2]\n"
     ]
    }
   ],
   "source": [
    "'Menghitung B - C'\n",
    "print(B - C)"
   ]
  },
  {
   "cell_type": "code",
   "execution_count": 26,
   "metadata": {},
   "outputs": [
    {
     "name": "stdout",
     "output_type": "stream",
     "text": [
      "520\n"
     ]
    }
   ],
   "source": [
    "'Menghitung A dot C'\n",
    "print(A@C)"
   ]
  },
  {
   "cell_type": "code",
   "execution_count": 27,
   "metadata": {},
   "outputs": [
    {
     "name": "stdout",
     "output_type": "stream",
     "text": [
      "[170 440 209]\n"
     ]
    }
   ],
   "source": [
    "'Menghitung A X B'\n",
    "print(A*B)\n"
   ]
  },
  {
   "cell_type": "code",
   "execution_count": 28,
   "metadata": {},
   "outputs": [
    {
     "data": {
      "text/plain": [
       "33.67491648096547"
      ]
     },
     "execution_count": 28,
     "metadata": {},
     "output_type": "execute_result"
    }
   ],
   "source": [
    "'Menghitung norm A'\n",
    "np.linalg.norm(A)"
   ]
  },
  {
   "cell_type": "code",
   "execution_count": 29,
   "metadata": {},
   "outputs": [
    {
     "name": "stdout",
     "output_type": "stream",
     "text": [
      "0.9759590023331435\n",
      "0.21971776576153962\n",
      "12.588900662180242\n"
     ]
    }
   ],
   "source": [
    "'Menghitung sudut antara vektor A dan B'\n",
    "\n",
    "'Langkah 1 menghitung nilai cos_theta antara vektor A dan B'\n",
    "cos_theta = (A@B)/(np.linalg.norm(A)*(np.linalg.norm(B)))\n",
    "print(cos_theta)\n",
    "\n",
    "'Langkah 2 convert nilai cos_theta ke radian'\n",
    "rad = np.arccos(cos_theta)\n",
    "print(rad)\n",
    "\n",
    "'Langkah 3 convert radian to degrees untuk mendapatkan sudut vektor A dan B'\n",
    "degree = np.degrees(rad)\n",
    "print(degree) "
   ]
  },
  {
   "cell_type": "markdown",
   "metadata": {},
   "source": [
    "Buatlah plot dari vector berikut ini ke dalam bidang 2D:\n",
    "    \n",
    "u = (2 5), v = (3 1)"
   ]
  },
  {
   "cell_type": "code",
   "execution_count": 30,
   "metadata": {},
   "outputs": [],
   "source": [
    "def plot_vector2d(vector2d, origin=[0, 0], **options):\n",
    "    return plt.arrow(origin[0], origin[1], vector2d[0], vector2d[1],\n",
    "              head_width=0.2, head_length=0.3, length_includes_head=True,\n",
    "              **options)"
   ]
  },
  {
   "cell_type": "code",
   "execution_count": 31,
   "metadata": {},
   "outputs": [],
   "source": [
    "u = np.array([2,5])\n",
    "v = np.array([3,1])"
   ]
  },
  {
   "cell_type": "code",
   "execution_count": 32,
   "metadata": {},
   "outputs": [
    {
     "data": {
      "image/png": "[encoded data removed]",
      "text/plain": [
       "<Figure size 432x288 with 1 Axes>"
      ]
     },
     "metadata": {
      "needs_background": "light"
     },
     "output_type": "display_data"
    }
   ],
   "source": [
    "plot_vector2d(u, color='r')\n",
    "plot_vector2d(v, color='b')\n",
    "\n",
    "plt.axis([0,10,0,10]) # rentang axis sumbu x dan y\n",
    "plt.grid()\n",
    "plt.show()"
   ]
  }
 ],
 "metadata": {
  "interpreter": {
   "hash": "380030d1298d5a27518acca789ff38fe82bbf2e68b73263de6a6bf23efb7704c"
  },
  "kernelspec": {
   "display_name": "Python 3.9.7 ('base')",
   "language": "python",
   "name": "python3"
  },
  "language_info": {
   "codemirror_mode": {
    "name": "ipython",
    "version": 3
   },
   "file_extension": ".py",
   "mimetype": "text/x-python",
   "name": "python",
   "nbconvert_exporter": "python",
   "pygments_lexer": "ipython3",
   "version": "3.9.7"
  },
  "orig_nbformat": 4
 },
 "nbformat": 4,
 "nbformat_minor": 2
}
