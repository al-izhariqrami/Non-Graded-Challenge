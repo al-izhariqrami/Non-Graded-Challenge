{
 "cells": [
  {
   "cell_type": "markdown",
   "metadata": {},
   "source": [
    "**A. IMPORT LIBRARY**"
   ]
  },
  {
   "cell_type": "code",
   "execution_count": 42,
   "metadata": {},
   "outputs": [],
   "source": [
    "import sympy as sy\n",
    "import numpy as np\n",
    "import matplotlib.pyplot as plt"
   ]
  },
  {
   "cell_type": "markdown",
   "metadata": {},
   "source": [
    "**B. PROBLEM AND SOLUTION**"
   ]
  },
  {
   "cell_type": "markdown",
   "metadata": {},
   "source": [
    "Carilah turunan dari fungsi :\n",
    "\n",
    "a) y = x^2 + 2x + 1\n",
    "    \n",
    "b) y = 4x^3 - 3x^2 + 2x -1"
   ]
  },
  {
   "cell_type": "markdown",
   "metadata": {},
   "source": [
    "*Symbolic*"
   ]
  },
  {
   "cell_type": "code",
   "execution_count": 31,
   "metadata": {},
   "outputs": [
    {
     "data": {
      "text/latex": [
       "$\\displaystyle x$"
      ],
      "text/plain": [
       "x"
      ]
     },
     "execution_count": 31,
     "metadata": {},
     "output_type": "execute_result"
    }
   ],
   "source": [
    "# Membuat Symbol Matematika\n",
    "x = sy.Symbol('x')\n",
    "x"
   ]
  },
  {
   "cell_type": "code",
   "execution_count": 32,
   "metadata": {},
   "outputs": [
    {
     "data": {
      "text/latex": [
       "$\\displaystyle x^{2} + 2 x + 1$"
      ],
      "text/plain": [
       "x**2 + 2*x + 1"
      ]
     },
     "execution_count": 32,
     "metadata": {},
     "output_type": "execute_result"
    }
   ],
   "source": [
    "# Memasukkan symbol matematika kedalam soal dan disimpan kedalam variabel y1 dan y2\n",
    "y1 = x**2 + 2*x + 1\n",
    "y1"
   ]
  },
  {
   "cell_type": "code",
   "execution_count": 33,
   "metadata": {},
   "outputs": [
    {
     "data": {
      "text/latex": [
       "$\\displaystyle 4 x^{3} - 3 x^{2} + 2 x - 1$"
      ],
      "text/plain": [
       "4*x**3 - 3*x**2 + 2*x - 1"
      ]
     },
     "execution_count": 33,
     "metadata": {},
     "output_type": "execute_result"
    }
   ],
   "source": [
    "y2 = 4*x**3 - 3*x**2 + 2*x -1\n",
    "y2"
   ]
  },
  {
   "cell_type": "code",
   "execution_count": 34,
   "metadata": {},
   "outputs": [
    {
     "data": {
      "text/latex": [
       "$\\displaystyle 2 x + 2$"
      ],
      "text/plain": [
       "2*x + 2"
      ]
     },
     "execution_count": 34,
     "metadata": {},
     "output_type": "execute_result"
    }
   ],
   "source": [
    "# Mencari turunan pertama dari y1 \n",
    "y1.diff()"
   ]
  },
  {
   "cell_type": "code",
   "execution_count": 59,
   "metadata": {},
   "outputs": [
    {
     "data": {
      "text/latex": [
       "$\\displaystyle 2$"
      ],
      "text/plain": [
       "2"
      ]
     },
     "execution_count": 59,
     "metadata": {},
     "output_type": "execute_result"
    }
   ],
   "source": [
    "# Mencari turunan kedua dari y1\n",
    "y1.diff().diff()"
   ]
  },
  {
   "cell_type": "code",
   "execution_count": 35,
   "metadata": {},
   "outputs": [
    {
     "data": {
      "text/latex": [
       "$\\displaystyle 12 x^{2} - 6 x + 2$"
      ],
      "text/plain": [
       "12*x**2 - 6*x + 2"
      ]
     },
     "execution_count": 35,
     "metadata": {},
     "output_type": "execute_result"
    }
   ],
   "source": [
    "# Mencari turunan pertama dari y2\n",
    "y2.diff()"
   ]
  },
  {
   "cell_type": "code",
   "execution_count": 60,
   "metadata": {},
   "outputs": [
    {
     "data": {
      "text/latex": [
       "$\\displaystyle 24 x - 6$"
      ],
      "text/plain": [
       "24*x - 6"
      ]
     },
     "execution_count": 60,
     "metadata": {},
     "output_type": "execute_result"
    }
   ],
   "source": [
    "# Mencari turunan kedua dari y2\n",
    "y2.diff().diff()"
   ]
  },
  {
   "cell_type": "markdown",
   "metadata": {},
   "source": [
    "*Numerik*"
   ]
  },
  {
   "cell_type": "code",
   "execution_count": 38,
   "metadata": {},
   "outputs": [],
   "source": [
    "# Membuat sebuah deret nilai dengan jarak yang sama\n",
    "X = np.linspace(-50,50)"
   ]
  },
  {
   "cell_type": "code",
   "execution_count": 39,
   "metadata": {},
   "outputs": [
    {
     "data": {
      "text/plain": [
       "array([2.40100000e+03, 2.20516493e+03, 2.01765973e+03, 1.83848438e+03,\n",
       "       1.66763890e+03, 1.50512328e+03, 1.35093753e+03, 1.20508163e+03,\n",
       "       1.06755560e+03, 9.38359434e+02, 8.17493128e+02, 7.04956685e+02,\n",
       "       6.00750104e+02, 5.04873386e+02, 4.17326531e+02, 3.38109538e+02,\n",
       "       2.67222407e+02, 2.04665140e+02, 1.50437734e+02, 1.04540192e+02,\n",
       "       6.69725115e+01, 3.77346939e+01, 1.68267389e+01, 4.24864640e+00,\n",
       "       4.16493128e-04, 4.08204915e+00, 1.64935444e+01, 3.72349021e+01,\n",
       "       6.63061224e+01, 1.03707205e+02, 1.49438151e+02, 2.03498959e+02,\n",
       "       2.65889629e+02, 3.36610162e+02, 4.15660558e+02, 5.03040816e+02,\n",
       "       5.98750937e+02, 7.02790920e+02, 8.15160766e+02, 9.35860475e+02,\n",
       "       1.06489005e+03, 1.20224948e+03, 1.34793878e+03, 1.50195793e+03,\n",
       "       1.66430696e+03, 1.83498584e+03, 2.01399459e+03, 2.20133319e+03,\n",
       "       2.39700167e+03, 2.60100000e+03])"
      ]
     },
     "execution_count": 39,
     "metadata": {},
     "output_type": "execute_result"
    }
   ],
   "source": [
    "# Memasukkan deretan nilai yang telah dibuat kedalam variabel Y1\n",
    "Y1 = X**2 + 2*X + 1\n",
    "Y1"
   ]
  },
  {
   "cell_type": "code",
   "execution_count": 41,
   "metadata": {},
   "outputs": [
    {
     "data": {
      "text/plain": [
       "array([-5.07601000e+05, -4.48237638e+05, -3.93693186e+05, -3.43763648e+05,\n",
       "       -2.98245028e+05, -2.56933328e+05, -2.19624551e+05, -1.86114703e+05,\n",
       "       -1.56199785e+05, -1.29675800e+05, -1.06338754e+05, -8.59846480e+04,\n",
       "       -6.84094863e+04, -5.34092721e+04, -4.07800087e+04, -3.03176997e+04,\n",
       "       -2.18183482e+04, -1.50779577e+04, -9.89253159e+03, -6.05807316e+03,\n",
       "       -3.37058580e+03, -1.62607289e+03, -6.20537778e+02, -1.49983842e+02,\n",
       "       -1.04144447e+01,  2.16704774e+00,  9.17572695e+01,  4.62352855e+02,\n",
       "        1.31795044e+03,  2.86254665e+03,  5.30013813e+03,  8.83472151e+03,\n",
       "        1.36702934e+04,  2.00108505e+04,  2.80603894e+04,  3.80229067e+04,\n",
       "        5.01023991e+04,  6.45028632e+04,  8.14282956e+04,  1.01082693e+05,\n",
       "        1.23670052e+05,  1.49394369e+05,  1.78459641e+05,  2.11069865e+05,\n",
       "        2.47429037e+05,  2.87741153e+05,  3.32210211e+05,  3.81040207e+05,\n",
       "        4.34435138e+05,  4.92599000e+05])"
      ]
     },
     "execution_count": 41,
     "metadata": {},
     "output_type": "execute_result"
    }
   ],
   "source": [
    "# Memasukkan deretan nilai yang telah dibuat kedalam variabel Y2\n",
    "Y2 = 4*X**3 - 3*X**2 + 2*X - 1\n",
    "Y2"
   ]
  },
  {
   "cell_type": "code",
   "execution_count": 57,
   "metadata": {},
   "outputs": [
    {
     "data": {
      "text/plain": [
       "[<matplotlib.lines.Line2D at 0x2ed4822efd0>]"
      ]
     },
     "execution_count": 57,
     "metadata": {},
     "output_type": "execute_result"
    },
    {
     "data": {
      "image/png": "[encoded data removed]",
      "text/plain": [
       "<Figure size 432x288 with 1 Axes>"
      ]
     },
     "metadata": {
      "needs_background": "light"
     },
     "output_type": "display_data"
    }
   ],
   "source": [
    "plt.plot(X,Y1)"
   ]
  },
  {
   "cell_type": "code",
   "execution_count": 44,
   "metadata": {},
   "outputs": [
    {
     "data": {
      "text/plain": [
       "[<matplotlib.lines.Line2D at 0x2ed47ccd790>]"
      ]
     },
     "execution_count": 44,
     "metadata": {},
     "output_type": "execute_result"
    },
    {
     "data": {
      "image/png": "[encoded data removed]",
      "text/plain": [
       "<Figure size 432x288 with 1 Axes>"
      ]
     },
     "metadata": {
      "needs_background": "light"
     },
     "output_type": "display_data"
    }
   ],
   "source": [
    "plt.plot(X,Y2)"
   ]
  },
  {
   "cell_type": "code",
   "execution_count": 46,
   "metadata": {},
   "outputs": [
    {
     "data": {
      "text/plain": [
       "array([-95.95918367, -91.87755102, -87.79591837, -83.71428571,\n",
       "       -79.63265306, -75.55102041, -71.46938776, -67.3877551 ,\n",
       "       -63.30612245, -59.2244898 , -55.14285714, -51.06122449,\n",
       "       -46.97959184, -42.89795918, -38.81632653, -34.73469388,\n",
       "       -30.65306122, -26.57142857, -22.48979592, -18.40816327,\n",
       "       -14.32653061, -10.24489796,  -6.16326531,  -2.08163265,\n",
       "         2.        ,   6.08163265,  10.16326531,  14.24489796,\n",
       "        18.32653061,  22.40816327,  26.48979592,  30.57142857,\n",
       "        34.65306122,  38.73469388,  42.81632653,  46.89795918,\n",
       "        50.97959184,  55.06122449,  59.14285714,  63.2244898 ,\n",
       "        67.30612245,  71.3877551 ,  75.46938776,  79.55102041,\n",
       "        83.63265306,  87.71428571,  91.79591837,  95.87755102,\n",
       "        99.95918367])"
      ]
     },
     "execution_count": 46,
     "metadata": {},
     "output_type": "execute_result"
    }
   ],
   "source": [
    "# Turunan pertama Y1\n",
    "dfY1 = np.diff(Y1)/np.diff(X)\n",
    "dfY1"
   ]
  },
  {
   "cell_type": "code",
   "execution_count": 47,
   "metadata": {},
   "outputs": [
    {
     "data": {
      "text/plain": [
       "array([2.90880475e+04, 2.67267813e+04, 2.44654736e+04, 2.23041241e+04,\n",
       "       2.02427330e+04, 1.82813003e+04, 1.64198259e+04, 1.46583099e+04,\n",
       "       1.29967522e+04, 1.14351529e+04, 9.97351187e+03, 8.61182924e+03,\n",
       "       7.35010496e+03, 6.18833903e+03, 5.12653145e+03, 4.16468222e+03,\n",
       "       3.30279134e+03, 2.54085881e+03, 1.87888463e+03, 1.31686880e+03,\n",
       "       8.54811329e+02, 4.92712203e+02, 2.30571429e+02, 6.83890046e+01,\n",
       "       6.16493128e+00, 4.38992087e+01, 1.81591837e+02, 4.19242815e+02,\n",
       "       7.56852145e+02, 1.19441983e+03, 1.73194586e+03, 2.36943024e+03,\n",
       "       3.10687297e+03, 3.94427405e+03, 4.88163349e+03, 5.91895127e+03,\n",
       "       7.05622741e+03, 8.29346189e+03, 9.63065473e+03, 1.10678059e+04,\n",
       "       1.26049155e+04, 1.42419833e+04, 1.59790096e+04, 1.78159942e+04,\n",
       "       1.97529371e+04, 2.17898384e+04, 2.39266980e+04, 2.61635160e+04,\n",
       "       2.85002924e+04])"
      ]
     },
     "execution_count": 47,
     "metadata": {},
     "output_type": "execute_result"
    }
   ],
   "source": [
    "# Turunan pertama Y2\n",
    "dfY2 = np.diff(Y2)/np.diff(X)\n",
    "dfY2"
   ]
  }
 ],
 "metadata": {
  "interpreter": {
   "hash": "380030d1298d5a27518acca789ff38fe82bbf2e68b73263de6a6bf23efb7704c"
  },
  "kernelspec": {
   "display_name": "Python 3.9.7 ('base')",
   "language": "python",
   "name": "python3"
  },
  "language_info": {
   "codemirror_mode": {
    "name": "ipython",
    "version": 3
   },
   "file_extension": ".py",
   "mimetype": "text/x-python",
   "name": "python",
   "nbconvert_exporter": "python",
   "pygments_lexer": "ipython3",
   "version": "3.9.7"
  },
  "orig_nbformat": 4
 },
 "nbformat": 4,
 "nbformat_minor": 2
}
