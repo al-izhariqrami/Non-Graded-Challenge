{
 "cells": [
  {
   "cell_type": "markdown",
   "metadata": {},
   "source": [
    "PROGRAM KONVERSI TEMPERATRU"
   ]
  },
  {
   "cell_type": "markdown",
   "metadata": {},
   "source": [
    "Konversi Kelvin ke Celcius dan Celcius ke Kelvin"
   ]
  },
  {
   "cell_type": "code",
   "execution_count": 58,
   "metadata": {},
   "outputs": [],
   "source": [
    "def kelvin(nilai1):\n",
    "    'Konversi Kelvin ke Celcius'\n",
    "    celcius = nilai1 - 273\n",
    "    print(f'Suhu {nilai1} kelvin adalah {celcius} celcius')\n",
    "    return celcius\n",
    "\n",
    "def celcius(nilai2):\n",
    "    'Konversi Celcius ke Kelvin'\n",
    "    kelvin1 = nilai2 + 273\n",
    "    print(f'Suhu {nilai2} celcius adalah {kelvin1} kelvin')\n",
    "    return kelvin1"
   ]
  },
  {
   "cell_type": "code",
   "execution_count": 59,
   "metadata": {},
   "outputs": [
    {
     "name": "stdout",
     "output_type": "stream",
     "text": [
      "Suhu 450 kelvin adalah 177 celcius\n",
      "177\n",
      "Suhu 177 celcius adalah 450 kelvin\n",
      "450\n"
     ]
    }
   ],
   "source": [
    "print(kelvin(450))\n",
    "print(celcius(177))"
   ]
  },
  {
   "cell_type": "markdown",
   "metadata": {},
   "source": [
    "Konversi Suhu ke Farenheit"
   ]
  },
  {
   "cell_type": "code",
   "execution_count": 60,
   "metadata": {},
   "outputs": [],
   "source": [
    "def konversi_ke_farenheit(temperatur,nilai3):\n",
    "    'Ini adalah program mengkonversi suhu ke Farenheit'\n",
    "    if temperatur == 'Kelvin':\n",
    "        farenheit = (9/5)*nilai3 - 459.4\n",
    "        print(f'Suhu {nilai3} kelvin adalah {farenheit} farenheit')\n",
    "    elif temperatur == 'Celcius':\n",
    "        farenheit = (9/5)*nilai3 + 32\n",
    "        print(f'Suhu {nilai3} celcius adalah {farenheit} farenheit')\n",
    "    elif temperatur == 'Reamur':\n",
    "        farenheit = (9/4)*nilai3 + 32\n",
    "        print(f'Suhu {nilai3} reamur adalah {farenheit} farenheit ')\n",
    "    else:\n",
    "        print('Harap memasukkan temperatur yang tepat dengan awalan kapital')\n",
    "        \n",
    "        \n"
   ]
  },
  {
   "cell_type": "code",
   "execution_count": 61,
   "metadata": {},
   "outputs": [
    {
     "name": "stdout",
     "output_type": "stream",
     "text": [
      "Suhu 80 kelvin adalah -315.4 farenheit\n",
      "None\n",
      "Suhu 85 celcius adalah 185.0 farenheit\n",
      "None\n",
      "Suhu 70 reamur adalah 189.5 farenheit \n",
      "None\n",
      "Harap memasukkan temperatur yang tepat dengan awalan kapital\n",
      "None\n"
     ]
    }
   ],
   "source": [
    "print(konversi_ke_farenheit('Kelvin',80))\n",
    "print(konversi_ke_farenheit('Celcius',85))\n",
    "print(konversi_ke_farenheit('Reamur',70))\n",
    "print(konversi_ke_farenheit('reamur',70))"
   ]
  },
  {
   "cell_type": "markdown",
   "metadata": {},
   "source": [
    "Konversi Suhu Dari Farenheit"
   ]
  },
  {
   "cell_type": "code",
   "execution_count": 62,
   "metadata": {},
   "outputs": [],
   "source": [
    "def konversi_dari_farenheit(suhu_farenheit,konversi_ke):\n",
    "    'Ini adalah program mengkonversi suhu dari Farenheit'\n",
    "    if konversi_ke == 'Kelvin':\n",
    "        Kelvin = (5/9)*(suhu_farenheit + 459.4)\n",
    "        print(f'{suhu_farenheit} Farenhait adalah {Kelvin} Kelvin')\n",
    "    elif konversi_ke == 'Celcius':\n",
    "        Celcius = (5/9)*(suhu_farenheit - 32)\n",
    "        print(f'{suhu_farenheit} Farenheit adalah {Celcius} Celcius')\n",
    "    elif konversi_ke == 'Reamur':\n",
    "        Reamur = (4/9)*(suhu_farenheit - 32)\n",
    "        print(f'{suhu_farenheit} Farenhait adalah {Reamur} Reamur')\n",
    "    else:\n",
    "        print('Harap memasukkan temperatur yang tepat dengan awalan kapital')"
   ]
  },
  {
   "cell_type": "code",
   "execution_count": 63,
   "metadata": {},
   "outputs": [
    {
     "name": "stdout",
     "output_type": "stream",
     "text": [
      "-315.4 Farenhait adalah 80.0 Kelvin\n",
      "185.0 Farenheit adalah 85.0 Celcius\n",
      "189.5 Farenhait adalah 70.0 Reamur\n"
     ]
    }
   ],
   "source": [
    "konversi_dari_farenheit(-315.4,'Kelvin')\n",
    "konversi_dari_farenheit(185.0,'Celcius')\n",
    "konversi_dari_farenheit(189.5,'Reamur')"
   ]
  }
 ],
 "metadata": {
  "interpreter": {
   "hash": "380030d1298d5a27518acca789ff38fe82bbf2e68b73263de6a6bf23efb7704c"
  },
  "kernelspec": {
   "display_name": "Python 3.9.7 ('base')",
   "language": "python",
   "name": "python3"
  },
  "language_info": {
   "codemirror_mode": {
    "name": "ipython",
    "version": 3
   },
   "file_extension": ".py",
   "mimetype": "text/x-python",
   "name": "python",
   "nbconvert_exporter": "python",
   "pygments_lexer": "ipython3",
   "version": "3.9.7"
  },
  "orig_nbformat": 4
 },
 "nbformat": 4,
 "nbformat_minor": 2
}
